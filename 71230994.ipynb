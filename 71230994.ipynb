{
 "cells": [
  {
   "cell_type": "code",
   "execution_count": 2,
   "metadata": {},
   "outputs": [
    {
     "name": "stdout",
     "output_type": "stream",
     "text": [
      "\n",
      "Dictionary:  {1: 10, 2: 20, 3: 30, 4: 40, 5: 50, 6: 60} \n",
      "\n",
      "Output:\n",
      "Key   Value   Item \n",
      "1     10     1\n",
      "2     20     2\n",
      "3     30     3\n",
      "4     40     4\n",
      "5     50     5\n",
      "6     60     6\n"
     ]
    }
   ],
   "source": [
    "#11.1\n",
    "a = {1: 10, 2: 20, 3: 30, 4: 40, 5: 50, 6: 60};print(\"\\nDictionary: \",a, \"\\n\\nOutput:\\nKey   Value   Item \")\n",
    "for key, value in a.items():\n",
    "    print(key,\"   \", value,\"   \", key)\n"
   ]
  },
  {
   "cell_type": "code",
   "execution_count": 3,
   "metadata": {},
   "outputs": [
    {
     "name": "stdout",
     "output_type": "stream",
     "text": [
      "Output: \n",
      "{'red': '#FF0000', 'green': '#008000', 'blue': '#0000FF'}\n"
     ]
    }
   ],
   "source": [
    "#11.2\n",
    "a = ['red','green','blue']; b = ['#FF0000','#008000', '#0000FF'];new_dict = {}\n",
    "new_dict = {warna: hexa_warna for warna, hexa_warna in zip(a, b)}; print(f\"Output: \\n{new_dict}\")\n"
   ]
  },
  {
   "cell_type": "code",
   "execution_count": 4,
   "metadata": {},
   "outputs": [
    {
     "name": "stdout",
     "output_type": "stream",
     "text": [
      "{'stephen.marquard@uct.ac.za': 2, 'louis@media.berkeley.edu': 3, 'zqian@umich.edu': 4, 'rjlowe@iupui.edu': 2, 'cwen@iupui.edu': 5, 'gsilver@umich.edu': 3, 'wagnermr@iupui.edu': 1, 'antranig@caret.cam.ac.uk': 1, 'gopal.ramasammycook@gmail.com': 1, 'david.horwitz@uct.ac.za': 4, 'ray@media.berkeley.edu': 1}\n"
     ]
    }
   ],
   "source": [
    "#11.3\n",
    "file = str(input(\"Masukkan nama file beserta formatnya (.txt): \"))\n",
    "with open(file, 'r') as file:\n",
    "    jumlah_email = {}\n",
    "\n",
    "    for line in file:\n",
    "        if line.startswith('From '):\n",
    "            words = line.split()\n",
    "            if len(words) > 1:\n",
    "                email = words[1]\n",
    "                if email in jumlah_email:\n",
    "                    jumlah_email[email] += 1\n",
    "                else:\n",
    "                    jumlah_email[email] = 1\n",
    "    print(jumlah_email)\n"
   ]
  },
  {
   "cell_type": "code",
   "execution_count": 1,
   "metadata": {},
   "outputs": [
    {
     "name": "stdout",
     "output_type": "stream",
     "text": [
      "{'uct.ac.za': 6, 'media.berkeley.edu': 4, 'umich.edu': 7, 'iupui.edu': 8, 'caret.cam.ac.uk': 1, 'gmail.com': 1}\n"
     ]
    }
   ],
   "source": [
    "#11.4\n",
    "file = str(input(\"Masukkan nama file beserta formatnya (.txt): \"))\n",
    "with open(file, 'r') as file:\n",
    "    jumlah_domain = {}\n",
    "    for line in file:\n",
    "        if line.startswith('From '):\n",
    "            words = line.split()\n",
    "            email = words[1]\n",
    "            domain = email.split('@')[1]\n",
    "            if domain in jumlah_domain:\n",
    "                jumlah_domain[domain] += 1\n",
    "            else:\n",
    "                jumlah_domain[domain] = 1\n",
    "    print(jumlah_domain)"
   ]
  }
 ],
 "metadata": {
  "kernelspec": {
   "display_name": "Python 3",
   "language": "python",
   "name": "python3"
  },
  "language_info": {
   "codemirror_mode": {
    "name": "ipython",
    "version": 3
   },
   "file_extension": ".py",
   "mimetype": "text/x-python",
   "name": "python",
   "nbconvert_exporter": "python",
   "pygments_lexer": "ipython3",
   "version": "3.11.5"
  }
 },
 "nbformat": 4,
 "nbformat_minor": 2
}
